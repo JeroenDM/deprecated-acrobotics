{
 "cells": [
  {
   "cell_type": "code",
   "execution_count": 1,
   "metadata": {},
   "outputs": [],
   "source": [
    "import time\n",
    "import numpy as np\n",
    "import casadi as ca\n",
    "from acrobotics.util import get_default_axes3d\n",
    "from acrobotics.recources.robots import Kuka\n",
    "from acrobotics.geometry import Collection, Shape\n",
    "\n",
    "robot = Kuka()\n",
    "\n",
    "table = Shape(0.5, 0.25, 0.1)\n",
    "table_tf = np.array([[1, 0, 0, 0.80],\n",
    "                    [0, 1, 0, 0.25],\n",
    "                    [0, 0, 1, 0.13],\n",
    "                    [0, 0, 0, 1]])\n",
    "\n",
    "box_up = Shape(0.1, 0.1, 0.1)\n",
    "box_lo = Shape(0.1, 0.1, 0.1)\n",
    "\n",
    "box_up_tf = np.array([[1, 0, 0, 0.80],\n",
    "                    [0, 1, 0, -0.1],\n",
    "                    [0, 0, 1, 0.32],\n",
    "                    [0, 0, 0, 1]])\n",
    "box_lo_tf = np.array([[1, 0, 0, 0.80],\n",
    "                    [0, 1, 0, -0.1],\n",
    "                    [0, 0, 1, 0.08],\n",
    "                    [0, 0, 0, 1]])\n",
    "\n",
    "scene = Collection([table], [table_tf])\n",
    "# scene = Collection([table, box_up, box_lo], [table_tf, box_up_tf, box_lo_tf])\n",
    "\n",
    "N = 15 # path discretization\n",
    "# TASK: the end-effector path (no orientation)\n",
    "xp = np.ones(N) * 0.8\n",
    "yp = np.linspace(-0.2, 0.2, N)\n",
    "zp = np.ones(N) * 0.2"
   ]
  },
  {
   "cell_type": "code",
   "execution_count": 2,
   "metadata": {},
   "outputs": [],
   "source": [
    "# %matplotlib qt\n",
    "# fig, ax = get_default_axes3d([0, 1], [-0.5, 0.5], [0, 1])\n",
    "\n",
    "# ax.set_axis_off()\n",
    "# # ax.view_init(25, -25)# settinsg to show obstacles\n",
    "# ax.view_init(25, -40)\n",
    "\n",
    "# # ax.scatter(xp, yp, zp)\n",
    "# robot.plot(ax, [0, 1.5, 0, 0, 0, 0], c='k')\n",
    "# # scene.plot(ax, c='g')\n",
    "# # scene.s[1].plot(ax, tf=box_up_tf, c='k')\n",
    "# # scene.s[2].plot(ax, tf=box_lo_tf, c='r')"
   ]
  },
  {
   "cell_type": "markdown",
   "metadata": {},
   "source": [
    "## Extract convex polyhedron matrices from kuka robot and scene\n",
    "http://mathworld.wolfram.com/ConvexPolyhedron.html\n",
    "https://gitlab.mech.kuleuven.be/u0100037/path_planning_manipulator/blob/master/geometry/optimization.py\n"
   ]
  },
  {
   "cell_type": "code",
   "execution_count": 3,
   "metadata": {},
   "outputs": [],
   "source": [
    "pol_mat_a = []\n",
    "pol_mat_b = []\n",
    "\n",
    "# assume all links have only one shape\n",
    "for link in robot.links:\n",
    "    s = link.geometry.shapes[0]\n",
    "    Ai = s.get_normals(np.eye(4))\n",
    "    bi = 0.5 * np.array([s.dx, s.dx, s.dy, s.dy, s.dz, s.dz])\n",
    "    \n",
    "    pol_mat_a.append(Ai)\n",
    "    pol_mat_b.append(bi)\n",
    "\n",
    "pol_mat_a_scene = []\n",
    "pol_mat_b_scene = []\n",
    "\n",
    "# assume all links have only one shape\n",
    "for s, tf in zip(scene.shapes, scene.tf_s):\n",
    "#     Ai = s.get_normals(np.eye(4))\n",
    "#     bi = 0.5 * np.array([s.dx, s.dx, s.dy, s.dy, s.dz, s.dz])\n",
    "    \n",
    "#     Ai = np.dot(Ai, tf[:3, :3].T)\n",
    "#     bi = bi + np.dot(Ai, tf[:3, 3])\n",
    "    \n",
    "    Ai, bi = s.get_polyhedron(tf)\n",
    "    \n",
    "    pol_mat_a_scene.append(Ai)\n",
    "    pol_mat_b_scene.append(bi)"
   ]
  },
  {
   "cell_type": "markdown",
   "metadata": {},
   "source": [
    "## Forward kinematics for all links using DH convention"
   ]
  },
  {
   "cell_type": "code",
   "execution_count": 4,
   "metadata": {},
   "outputs": [],
   "source": [
    "from casadi import cos, sin, dot\n",
    "\n",
    "def get_link_relative_transform(link, qi):\n",
    "        \n",
    "    a, alpha, d, theta = link.dh.a, link.dh.alpha, link.dh.d, qi\n",
    "\n",
    "    c_t, s_t = cos(theta), sin(theta)\n",
    "    c_a, s_a = cos(alpha), sin(alpha)\n",
    "\n",
    "    row1 = ca.hcat([c_t, -s_t * c_a,  s_t * s_a,  a * c_t])\n",
    "    row2 = ca.hcat([s_t,  c_t * c_a, -c_t * s_a,  a * s_t])\n",
    "    row3 = ca.hcat([0, s_a, c_a, d])\n",
    "    row4 = ca.hcat([0, 0, 0, 1])\n",
    "\n",
    "    return ca.vcat([row1, row2, row3, row4])\n",
    "\n",
    "def fk_all_links(links, q, tf_base=np.eye(4)):\n",
    "    \"\"\" Return link frames (not base or tool)\n",
    "    \"\"\"\n",
    "    tf_links = []\n",
    "    T = tf_base\n",
    "    for i in range(len(links)):\n",
    "        Ti = get_link_relative_transform(links[i], q[i])\n",
    "        T = T @ Ti\n",
    "        tf_links.append(T)\n",
    "    return tf_links"
   ]
  },
  {
   "cell_type": "markdown",
   "metadata": {},
   "source": [
    "## forward kinematics for end-effector in separate function just because"
   ]
  },
  {
   "cell_type": "code",
   "execution_count": 5,
   "metadata": {},
   "outputs": [],
   "source": [
    "def fk_kuka2(q):\n",
    "    q1, q2, q3, q4, q5, q6 = q[0], q[1], q[2], q[3], q[4], q[5]\n",
    "    a1=0.18; a2=0.6; d4=0.62; d6=0.115\n",
    "    T = np.array([\n",
    "[((sin(q1)*sin(q4) + cos(q1)*cos(q4)*cos(q2 + q3))*cos(q5) - sin(q5)*sin(q2 + q3)*cos(q1))*cos(q6) + (sin(q1)*cos(q4) - sin(q4)*cos(q1)*cos(q2 + q3))*sin(q6), -((sin(q1)*sin(q4) + cos(q1)*cos(q4)*cos(q2 + q3))*cos(q5) - sin(q5)*sin(q2 + q3)*cos(q1))*sin(q6) + (sin(q1)*cos(q4) - sin(q4)*cos(q1)*cos(q2 + q3))*cos(q6), (sin(q1)*sin(q4) + cos(q1)*cos(q4)*cos(q2 + q3))*sin(q5) + sin(q2 + q3)*cos(q1)*cos(q5), a1*cos(q1) + a2*cos(q1)*cos(q2) + d4*sin(q2 + q3)*cos(q1) + d6*((sin(q1)*sin(q4) + cos(q1)*cos(q4)*cos(q2 + q3))*sin(q5) + sin(q2 + q3)*cos(q1)*cos(q5))],\n",
    "[((sin(q1)*cos(q4)*cos(q2 + q3) - sin(q4)*cos(q1))*cos(q5) - sin(q1)*sin(q5)*sin(q2 + q3))*cos(q6) - (sin(q1)*sin(q4)*cos(q2 + q3) + cos(q1)*cos(q4))*sin(q6), -((sin(q1)*cos(q4)*cos(q2 + q3) - sin(q4)*cos(q1))*cos(q5) - sin(q1)*sin(q5)*sin(q2 + q3))*sin(q6) - (sin(q1)*sin(q4)*cos(q2 + q3) + cos(q1)*cos(q4))*cos(q6), (sin(q1)*cos(q4)*cos(q2 + q3) - sin(q4)*cos(q1))*sin(q5) + sin(q1)*sin(q2 + q3)*cos(q5), a1*sin(q1) + a2*sin(q1)*cos(q2) + d4*sin(q1)*sin(q2 + q3) + d6*((sin(q1)*cos(q4)*cos(q2 + q3) - sin(q4)*cos(q1))*sin(q5) + sin(q1)*sin(q2 + q3)*cos(q5))],\n",
    "[                                                                (sin(q5)*cos(q2 + q3) + sin(q2 + q3)*cos(q4)*cos(q5))*cos(q6) - sin(q4)*sin(q6)*sin(q2 + q3),                                                                 -(sin(q5)*cos(q2 + q3) + sin(q2 + q3)*cos(q4)*cos(q5))*sin(q6) - sin(q4)*sin(q2 + q3)*cos(q6),                                     sin(q5)*sin(q2 + q3)*cos(q4) - cos(q5)*cos(q2 + q3),                                                                  a2*sin(q2) - d4*cos(q2 + q3) + d6*(sin(q5)*sin(q2 + q3)*cos(q4) - cos(q5)*cos(q2 + q3))],\n",
    "[                                                                                                                                                           0,                                                                                                                                                             0,                                                                                       0,                                                                                                                                                        1]])\n",
    "    return T"
   ]
  },
  {
   "cell_type": "markdown",
   "metadata": {},
   "source": [
    "# Formulate optimization problem"
   ]
  },
  {
   "cell_type": "code",
   "execution_count": 6,
   "metadata": {},
   "outputs": [],
   "source": [
    "#N = 15 # path discretization\n",
    "ndof = robot.ndof  #  robot degrees of freedom\n",
    "nobs = len(scene.shapes)  #  number of obstacles\n",
    "\n",
    "# number of planes in the polyhedrons (the same for all shapes, robot and obstacles!)\n",
    "S = 6\n",
    "\n",
    "# collision tolerance\n",
    "eps = 1e-6\n",
    "\n",
    "opti = ca.Opti()\n",
    "\n",
    "q = opti.variable(N, 6)  #  joint variables along path\n",
    "\n",
    "# dual variables arranged in convenient lists to acces with indices\n",
    "lam = [[[opti.variable(S) for j in range(nobs)] for i in range(ndof)] for k in range(N)]\n",
    "mu =  [[[opti.variable(S) for j in range(nobs)] for i in range(ndof)] for k in range(N)]"
   ]
  },
  {
   "cell_type": "markdown",
   "metadata": {},
   "source": [
    "### Collision constraints"
   ]
  },
  {
   "cell_type": "code",
   "execution_count": 7,
   "metadata": {},
   "outputs": [],
   "source": [
    "def col_con(lam, mu, Ar, Ao, br, bo):\n",
    "    opti.subject_to( -dot(br, lam) - dot(bo, mu) >= eps)\n",
    "    opti.subject_to(        Ar.T @ lam + Ao.T @ mu == 0.0)\n",
    "    opti.subject_to( dot(Ar.T @ lam, Ar.T @ lam) <= 1.0)\n",
    "    opti.subject_to(                         lam >= 0.0)\n",
    "    opti.subject_to(                          mu >= 0.0)\n",
    "\n",
    "\n",
    "for k in range(N):\n",
    "    fk = fk_all_links(robot.links, q[k, :])\n",
    "    for i in range(ndof):\n",
    "        Ri = fk[i][:3, :3]\n",
    "        pi = fk[i][:3, 3]\n",
    "        for j in range(nobs):\n",
    "            Ar = pol_mat_a[i] @ Ri.T\n",
    "            br = pol_mat_b[i] + Ar @ pi\n",
    "            col_con(lam[k][i][j], mu[k][i][j],\n",
    "                    Ar,\n",
    "                    pol_mat_a_scene[j],\n",
    "                    br,\n",
    "                    pol_mat_b_scene[j])"
   ]
  },
  {
   "cell_type": "markdown",
   "metadata": {},
   "source": [
    "### Objective and path"
   ]
  },
  {
   "cell_type": "code",
   "execution_count": 8,
   "metadata": {},
   "outputs": [],
   "source": [
    "V = ca.sum1( (ca.sum2(q[:-1, :] - q[1:, :])**2 ))# + 0.05* ca.sumsqr(q) #+ 1 / ca.sum1(q[:, 4]**2)\n",
    "\n",
    "opti.minimize(V)\n",
    "\n",
    "for i in range(N):\n",
    "    Ti = fk_kuka2(q[i, :])\n",
    "    opti.subject_to(xp[i] == Ti[0, 3])\n",
    "    opti.subject_to(yp[i] == Ti[1, 3])\n",
    "    opti.subject_to(zp[i] == Ti[2, 3])\n",
    "\n",
    "opti.solver('ipopt');"
   ]
  },
  {
   "cell_type": "code",
   "execution_count": 13,
   "metadata": {},
   "outputs": [],
   "source": [
    "%%capture\n",
    "costs = []\n",
    "times = []\n",
    "for i in range(6):\n",
    "    if i > 0:\n",
    "        opti.set_initial(q, np.random.normal(loc = 0, scale=0.1, size=(N, 6)))\n",
    "    else:\n",
    "        opti.set_initial(q, np.zeros((N, 6)))\n",
    "    \n",
    "    before = time.time()\n",
    "    sol = opti.solve()\n",
    "    after = time.time()\n",
    "    times.append(after - before)\n",
    "    \n",
    "    qp_sol = opti.value(q)\n",
    "    \n",
    "    cost = np.sum((qp_sol[:-1, :] - qp_sol[1:, :])**2) \n",
    "    costs.append(cost)\n",
    "    "
   ]
  },
  {
   "cell_type": "code",
   "execution_count": 14,
   "metadata": {},
   "outputs": [
    {
     "name": "stdout",
     "output_type": "stream",
     "text": [
      "[1.2665421962738037, 4.483356714248657, 1.1520159244537354, 2.192708969116211, 1.5645105838775635, 4.402402400970459]\n",
      "[0.9618131581981154, 30.8100621724387, 0.9898231976365531, 62.15105582439039, 69.60464179782984, 37.2638419636589]\n"
     ]
    }
   ],
   "source": [
    "print(times)\n",
    "print(costs)"
   ]
  },
  {
   "cell_type": "code",
   "execution_count": 31,
   "metadata": {},
   "outputs": [],
   "source": [
    "# %%capture\n",
    "# sol = opti.solve()"
   ]
  },
  {
   "cell_type": "code",
   "execution_count": 19,
   "metadata": {},
   "outputs": [],
   "source": [
    "qp_sol = opti.value(q)\n",
    "\n",
    "%matplotlib qt\n",
    "fig, ax = get_default_axes3d([0, 1], [-0.5, 0.5], [0, 1])\n",
    "\n",
    "ax.scatter(xp, yp, zp)\n",
    "scene.plot(ax, c='g')\n",
    "robot.animate_path(fig, ax, qp_sol)\n",
    "\n",
    "ax.set_axis_off()\n",
    "ax.view_init(24, 50)"
   ]
  },
  {
   "cell_type": "markdown",
   "metadata": {},
   "source": [
    "## Plot path details\n",
    "\n",
    "Questions:\n",
    "How to choose N to get a realistic joint path for a robot?"
   ]
  },
  {
   "cell_type": "code",
   "execution_count": 11,
   "metadata": {},
   "outputs": [],
   "source": [
    "import matplotlib.pyplot as plt\n",
    "%matplotlib inline"
   ]
  },
  {
   "cell_type": "code",
   "execution_count": 12,
   "metadata": {},
   "outputs": [
    {
     "data": {
      "image/png": "[encoded data removed]",
      "text/plain": [
       "<Figure size 432x288 with 1 Axes>"
      ]
     },
     "metadata": {
      "needs_background": "light"
     },
     "output_type": "display_data"
    }
   ],
   "source": [
    "fig, ax = plt.subplots()\n",
    "\n",
    "l = ax.plot(qp_sol, '.-')\n",
    "# done"
   ]
  },
  {
   "cell_type": "code",
   "execution_count": 13,
   "metadata": {},
   "outputs": [
    {
     "data": {
      "text/plain": [
       "[<matplotlib.lines.Line2D at 0x7fd0977833c8>]"
      ]
     },
     "execution_count": 13,
     "metadata": {},
     "output_type": "execute_result"
    },
    {
     "data": {
      "image/png": "[encoded data removed]",
      "text/plain": [
       "<Figure size 432x288 with 1 Axes>"
      ]
     },
     "metadata": {
      "needs_background": "light"
     },
     "output_type": "display_data"
    }
   ],
   "source": [
    "cost = np.sum((qp_sol[:-1] - qp_sol[1:])**2, 1)\n",
    "\n",
    "plt.plot(cost)"
   ]
  },
  {
   "cell_type": "code",
   "execution_count": null,
   "metadata": {},
   "outputs": [],
   "source": []
  }
 ],
 "metadata": {
  "kernelspec": {
   "display_name": "Python 3",
   "language": "python",
   "name": "python3"
  },
  "language_info": {
   "codemirror_mode": {
    "name": "ipython",
    "version": 3
   },
   "file_extension": ".py",
   "mimetype": "text/x-python",
   "name": "python",
   "nbconvert_exporter": "python",
   "pygments_lexer": "ipython3",
   "version": "3.7.3"
  }
 },
 "nbformat": 4,
 "nbformat_minor": 2
}
