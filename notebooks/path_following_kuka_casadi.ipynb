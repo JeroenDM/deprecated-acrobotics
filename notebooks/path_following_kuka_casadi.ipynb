{
 "cells": [
  {
   "cell_type": "code",
   "execution_count": 27,
   "metadata": {},
   "outputs": [],
   "source": [
    "import numpy as np\n",
    "import casadi as ca\n",
    "from acrobotics.util import get_default_axes3d\n",
    "from acrobotics.recources.robots import Kuka\n",
    "\n",
    "robot = Kuka()"
   ]
  },
  {
   "cell_type": "code",
   "execution_count": 28,
   "metadata": {},
   "outputs": [],
   "source": [
    "from casadi import cos, sin\n",
    "from numpy import array\n",
    "\n",
    "def fk_kuka2(q):\n",
    "    q1, q2, q3, q4, q5, q6 = q[0], q[1], q[2], q[3], q[4], q[5]\n",
    "    a1=0.18; a2=0.6; d4=0.62; d6=0.115\n",
    "    T = array([\n",
    "[((sin(q1)*sin(q4) + cos(q1)*cos(q4)*cos(q2 + q3))*cos(q5) - sin(q5)*sin(q2 + q3)*cos(q1))*cos(q6) + (sin(q1)*cos(q4) - sin(q4)*cos(q1)*cos(q2 + q3))*sin(q6), -((sin(q1)*sin(q4) + cos(q1)*cos(q4)*cos(q2 + q3))*cos(q5) - sin(q5)*sin(q2 + q3)*cos(q1))*sin(q6) + (sin(q1)*cos(q4) - sin(q4)*cos(q1)*cos(q2 + q3))*cos(q6), (sin(q1)*sin(q4) + cos(q1)*cos(q4)*cos(q2 + q3))*sin(q5) + sin(q2 + q3)*cos(q1)*cos(q5), a1*cos(q1) + a2*cos(q1)*cos(q2) + d4*sin(q2 + q3)*cos(q1) + d6*((sin(q1)*sin(q4) + cos(q1)*cos(q4)*cos(q2 + q3))*sin(q5) + sin(q2 + q3)*cos(q1)*cos(q5))],\n",
    "[((sin(q1)*cos(q4)*cos(q2 + q3) - sin(q4)*cos(q1))*cos(q5) - sin(q1)*sin(q5)*sin(q2 + q3))*cos(q6) - (sin(q1)*sin(q4)*cos(q2 + q3) + cos(q1)*cos(q4))*sin(q6), -((sin(q1)*cos(q4)*cos(q2 + q3) - sin(q4)*cos(q1))*cos(q5) - sin(q1)*sin(q5)*sin(q2 + q3))*sin(q6) - (sin(q1)*sin(q4)*cos(q2 + q3) + cos(q1)*cos(q4))*cos(q6), (sin(q1)*cos(q4)*cos(q2 + q3) - sin(q4)*cos(q1))*sin(q5) + sin(q1)*sin(q2 + q3)*cos(q5), a1*sin(q1) + a2*sin(q1)*cos(q2) + d4*sin(q1)*sin(q2 + q3) + d6*((sin(q1)*cos(q4)*cos(q2 + q3) - sin(q4)*cos(q1))*sin(q5) + sin(q1)*sin(q2 + q3)*cos(q5))],\n",
    "[                                                                (sin(q5)*cos(q2 + q3) + sin(q2 + q3)*cos(q4)*cos(q5))*cos(q6) - sin(q4)*sin(q6)*sin(q2 + q3),                                                                 -(sin(q5)*cos(q2 + q3) + sin(q2 + q3)*cos(q4)*cos(q5))*sin(q6) - sin(q4)*sin(q2 + q3)*cos(q6),                                     sin(q5)*sin(q2 + q3)*cos(q4) - cos(q5)*cos(q2 + q3),                                                                  a2*sin(q2) - d4*cos(q2 + q3) + d6*(sin(q5)*sin(q2 + q3)*cos(q4) - cos(q5)*cos(q2 + q3))],\n",
    "[                                                                                                                                                           0,                                                                                                                                                             0,                                                                                       0,                                                                                                                                                        1]])\n",
    "    return T"
   ]
  },
  {
   "cell_type": "code",
   "execution_count": 33,
   "metadata": {},
   "outputs": [],
   "source": [
    "opti = ca.Opti()\n",
    "\n",
    "N = 10\n",
    "q = opti.variable(N, 6)\n",
    "\n",
    "xp = np.ones(N) * 0.8\n",
    "yp = np.linspace(-0.2, 0.2, N)\n",
    "zp = np.ones(N) * 0.2\n"
   ]
  },
  {
   "cell_type": "code",
   "execution_count": 34,
   "metadata": {},
   "outputs": [],
   "source": [
    "V = ca.sum1( (ca.sum2(q[:-1, :] - q[1:, :])**2 )) + 0.05* ca.sumsqr(q) #+ 1 / ca.sum1(q[:, 4]**2)\n",
    "\n",
    "opti.minimize(V)\n",
    "\n",
    "for i in range(N):\n",
    "    Ti = fk_kuka2(q[i, :])\n",
    "    opti.subject_to(xp[i] == Ti[0, 3])\n",
    "    opti.subject_to(yp[i] == Ti[1, 3])\n",
    "    opti.subject_to(zp[i] == Ti[2, 3])\n",
    "\n",
    "opti.solver('ipopt');"
   ]
  },
  {
   "cell_type": "code",
   "execution_count": 35,
   "metadata": {},
   "outputs": [],
   "source": [
    "%%capture\n",
    "sol = opti.solve()"
   ]
  },
  {
   "cell_type": "code",
   "execution_count": 36,
   "metadata": {},
   "outputs": [],
   "source": [
    "qp_sol = opti.value(q)\n",
    "\n",
    "%matplotlib qt\n",
    "fig, ax = get_default_axes3d([0, 1], [-0.5, 0.5], [0, 1])\n",
    "\n",
    "ax.scatter(xp, yp, zp)\n",
    "robot.animate_path(fig, ax, qp_sol)"
   ]
  },
  {
   "cell_type": "code",
   "execution_count": 37,
   "metadata": {},
   "outputs": [],
   "source": [
    "fig, ax = get_default_axes3d([0, 1], [-0.5, 0.5], [0, 1])\n",
    "\n",
    "ax.scatter(xp, yp, zp)\n",
    "robot.plot(ax, [0, 1.5, 0, 0, 0, 0], c='k')"
   ]
  },
  {
   "cell_type": "code",
   "execution_count": 14,
   "metadata": {},
   "outputs": [
    {
     "data": {
      "text/plain": [
       "(10, 5)"
      ]
     },
     "execution_count": 14,
     "metadata": {},
     "output_type": "execute_result"
    }
   ],
   "source": [
    "q[:, [0, 1, 2, 3, 5]].shape"
   ]
  },
  {
   "cell_type": "code",
   "execution_count": null,
   "metadata": {},
   "outputs": [],
   "source": []
  }
 ],
 "metadata": {
  "kernelspec": {
   "display_name": "Python 3",
   "language": "python",
   "name": "python3"
  },
  "language_info": {
   "codemirror_mode": {
    "name": "ipython",
    "version": 3
   },
   "file_extension": ".py",
   "mimetype": "text/x-python",
   "name": "python",
   "nbconvert_exporter": "python",
   "pygments_lexer": "ipython3",
   "version": "3.7.3"
  }
 },
 "nbformat": 4,
 "nbformat_minor": 2
}
