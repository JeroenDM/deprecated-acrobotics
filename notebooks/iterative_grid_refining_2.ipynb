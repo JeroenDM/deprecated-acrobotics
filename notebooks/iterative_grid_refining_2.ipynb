{
 "cells": [
  {
   "cell_type": "code",
   "execution_count": 12,
   "metadata": {},
   "outputs": [],
   "source": [
    "import numpy as np\n",
    "import matplotlib.pyplot as plt\n",
    "from acrobotics.util import get_default_axes3d\n",
    "from acrobotics.recources.robots import Kuka\n",
    "from acrobotics.path import FreeOrientationPt, TolOrientationPt\n",
    "from acrobotics.geometry import Shape, Collection\n",
    "from pyquaternion import Quaternion"
   ]
  },
  {
   "cell_type": "code",
   "execution_count": 2,
   "metadata": {},
   "outputs": [
    {
     "data": {
      "text/plain": [
       "array([[ 1.,  0.,  0.,  0.],\n",
       "       [ 0., -1.,  0.,  0.],\n",
       "       [ 0.,  0., -1.,  0.],\n",
       "       [ 0.,  0.,  0.,  1.]])"
      ]
     },
     "execution_count": 2,
     "metadata": {},
     "output_type": "execute_result"
    }
   ],
   "source": [
    "q_nominal = Quaternion(axis=[1, 0, 0], angle=np.pi)\n",
    "# a.transformation_matrix\n",
    "tf_nominal = np.array([[1, 0, 0, 0],\n",
    "                       [0, -1, 0, 0],\n",
    "                       [0, 0, -1, 0],\n",
    "                       [0, 0, 0, 1.0]])\n",
    "tf_nominal"
   ]
  },
  {
   "cell_type": "code",
   "execution_count": 3,
   "metadata": {},
   "outputs": [],
   "source": [
    "robot = Kuka()\n",
    "\n",
    "path = []\n",
    "for s in np.linspace(0, 1, 8):\n",
    "    xi = 0.8\n",
    "    yi = s * 0.2 + (1-s) * (-0.2)\n",
    "    zi = 0.2\n",
    "    #path.append(FreeOrientationPt([xi, yi, zi]))\n",
    "    path.append(TolOrientationPt([xi, yi, zi], q_nominal))\n",
    "\n",
    "floor_plane = Shape(0.5, 0.5, 0.1)\n",
    "floor_plane_tf = np.array([[1, 0, 0, 0.80],\n",
    "                            [0, 1, 0, 0.00],\n",
    "                            [0, 0, 1, 0.12],\n",
    "                            [0, 0, 0, 1]])\n",
    "\n",
    "# scene = Collection([floor_plane], [floor_plane_tf])\n",
    "scene = Collection([], [])"
   ]
  },
  {
   "cell_type": "code",
   "execution_count": 4,
   "metadata": {},
   "outputs": [
    {
     "name": "stdout",
     "output_type": "stream",
     "text": [
      "Processing point 0/8\n",
      "sampling near with distance 0.1\n",
      "Processing point 1/8\n",
      "sampling near with distance 0.1\n",
      "Processing point 2/8\n",
      "sampling near with distance 0.1\n",
      "Processing point 3/8\n",
      "sampling near with distance 0.1\n",
      "Processing point 4/8\n",
      "sampling near with distance 0.1\n",
      "Processing point 5/8\n",
      "sampling near with distance 0.1\n",
      "Processing point 6/8\n",
      "sampling near with distance 0.1\n",
      "Processing point 7/8\n",
      "sampling near with distance 0.1\n",
      "[1600, 1600, 1600, 1600, 1600, 1600, 1600, 1600]\n",
      "{'success': True, 'path': [array([-0.24091592,  1.42027426, -0.31491816, -0.03268771, -1.10039759,\n",
      "       -0.17992201]), array([-0.17282026,  1.43837392, -0.33577114, -0.03081484, -1.10150027,\n",
      "       -0.11516225]), array([-0.10350908,  1.45032132, -0.34932852, -0.02527788, -1.10428035,\n",
      "       -0.08691224]), array([-0.03380062,  1.45652163, -0.35628328, -0.01479291, -1.10482764,\n",
      "       -0.02083112]), array([ 0.03702081,  1.4564321 , -0.35617381, -0.01029576, -1.10533094,\n",
      "       -0.01620887]), array([ 0.10772473,  1.45477855, -0.35435492, -0.00784992, -1.07907712,\n",
      "        0.01094603]), array([ 0.17887971,  1.43881011, -0.3362169 , -0.01722233, -1.09904325,\n",
      "       -0.00396056]), array([ 0.24629267,  1.42972445, -0.32612705, -0.01089192, -1.04531729,\n",
      "        0.02940984])], 'length': 1.006339430809021}\n"
     ]
    }
   ],
   "source": [
    "from acrobotics.planning import cart_to_joint_no_redundancy\n",
    "from acrobotics.planning import get_shortest_path\n",
    "\n",
    "Q = cart_to_joint_no_redundancy(robot, path, scene, num_samples=200)\n",
    "\n",
    "print([len(qi) for qi in Q])\n",
    "qp = [qi[0] for qi in Q]\n",
    "\n",
    "res = get_shortest_path(Q, method='dijkstra')\n",
    "print(res)\n",
    "qp_sol = res['path']"
   ]
  },
  {
   "cell_type": "code",
   "execution_count": 5,
   "metadata": {},
   "outputs": [
    {
     "ename": "NameError",
     "evalue": "name 'plt' is not defined",
     "output_type": "error",
     "traceback": [
      "\u001b[0;31m---------------------------------------------------------------------------\u001b[0m",
      "\u001b[0;31mNameError\u001b[0m                                 Traceback (most recent call last)",
      "\u001b[0;32m<ipython-input-5-9cc2014da297>\u001b[0m in \u001b[0;36m<module>\u001b[0;34m\u001b[0m\n\u001b[1;32m      6\u001b[0m \u001b[0mscene\u001b[0m\u001b[0;34m.\u001b[0m\u001b[0mplot\u001b[0m\u001b[0;34m(\u001b[0m\u001b[0max2\u001b[0m\u001b[0;34m,\u001b[0m \u001b[0mc\u001b[0m\u001b[0;34m=\u001b[0m\u001b[0;34m'g'\u001b[0m\u001b[0;34m)\u001b[0m\u001b[0;34m\u001b[0m\u001b[0;34m\u001b[0m\u001b[0m\n\u001b[1;32m      7\u001b[0m \u001b[0mrobot\u001b[0m\u001b[0;34m.\u001b[0m\u001b[0manimate_path\u001b[0m\u001b[0;34m(\u001b[0m\u001b[0mfig2\u001b[0m\u001b[0;34m,\u001b[0m \u001b[0max2\u001b[0m\u001b[0;34m,\u001b[0m \u001b[0mqp_sol\u001b[0m\u001b[0;34m)\u001b[0m\u001b[0;34m\u001b[0m\u001b[0;34m\u001b[0m\u001b[0m\n\u001b[0;32m----> 8\u001b[0;31m \u001b[0mplt\u001b[0m\u001b[0;34m.\u001b[0m\u001b[0mshow\u001b[0m\u001b[0;34m(\u001b[0m\u001b[0mblock\u001b[0m\u001b[0;34m=\u001b[0m\u001b[0;32mTrue\u001b[0m\u001b[0;34m)\u001b[0m\u001b[0;34m\u001b[0m\u001b[0;34m\u001b[0m\u001b[0m\n\u001b[0m",
      "\u001b[0;31mNameError\u001b[0m: name 'plt' is not defined"
     ]
    }
   ],
   "source": [
    "%matplotlib qt\n",
    "\n",
    "#%% ANIMATE\n",
    "fig2, ax2 = get_default_axes3d([-1, 1], [-1, 1], [-1, 1])\n",
    "for pi in path: pi.plot(ax2)\n",
    "scene.plot(ax2, c='g')\n",
    "robot.animate_path(fig2, ax2, qp_sol)\n",
    "plt.show(block=True)"
   ]
  },
  {
   "cell_type": "code",
   "execution_count": 9,
   "metadata": {},
   "outputs": [
    {
     "name": "stdout",
     "output_type": "stream",
     "text": [
      "[1600, 1600, 0, 1600, 1600, 1600, 1600, 1600]\n"
     ]
    },
    {
     "data": {
      "text/plain": [
       "False"
      ]
     },
     "execution_count": 9,
     "metadata": {},
     "output_type": "execute_result"
    }
   ],
   "source": [
    "a = [len(qi) for qi in Q]\n",
    "a[2] = 0\n",
    "print(a)\n",
    "np.all(a)"
   ]
  },
  {
   "cell_type": "code",
   "execution_count": 10,
   "metadata": {},
   "outputs": [],
   "source": [
    "costs = [4.578211784362793, 2.2725138664245605, 1.2967908382415771, 0.9507625102996826, 0.7383469343185425, 0.6937721371650696, 0.6709966063499451, 0.6612395644187927, 0.6552581191062927, 0.6525706648826599]"
   ]
  },
  {
   "cell_type": "code",
   "execution_count": 13,
   "metadata": {},
   "outputs": [
    {
     "data": {
      "text/plain": [
       "[<matplotlib.lines.Line2D at 0x7fc18019b588>]"
      ]
     },
     "execution_count": 13,
     "metadata": {},
     "output_type": "execute_result"
    }
   ],
   "source": [
    "plt.plot(costs, 'o-')"
   ]
  },
  {
   "cell_type": "code",
   "execution_count": null,
   "metadata": {},
   "outputs": [],
   "source": []
  }
 ],
 "metadata": {
  "kernelspec": {
   "display_name": "Python 3",
   "language": "python",
   "name": "python3"
  },
  "language_info": {
   "codemirror_mode": {
    "name": "ipython",
    "version": 3
   },
   "file_extension": ".py",
   "mimetype": "text/x-python",
   "name": "python",
   "nbconvert_exporter": "python",
   "pygments_lexer": "ipython3",
   "version": "3.7.3"
  }
 },
 "nbformat": 4,
 "nbformat_minor": 2
}
