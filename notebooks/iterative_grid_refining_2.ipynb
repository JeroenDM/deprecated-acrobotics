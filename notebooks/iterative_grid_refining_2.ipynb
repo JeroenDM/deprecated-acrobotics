{
 "cells": [
  {
   "cell_type": "code",
   "execution_count": 1,
   "metadata": {},
   "outputs": [],
   "source": [
    "import numpy as np\n",
    "from acrobotics.util import get_default_axes3d\n",
    "from acrobotics.recources.robots import Kuka\n",
    "from acrobotics.path import FreeOrientationPt, TolOrientationPt\n",
    "from acrobotics.geometry import Shape, Collection\n",
    "from pyquaternion import Quaternion"
   ]
  },
  {
   "cell_type": "code",
   "execution_count": 2,
   "metadata": {},
   "outputs": [
    {
     "data": {
      "text/plain": [
       "array([[ 1.,  0.,  0.,  0.],\n",
       "       [ 0., -1.,  0.,  0.],\n",
       "       [ 0.,  0., -1.,  0.],\n",
       "       [ 0.,  0.,  0.,  1.]])"
      ]
     },
     "execution_count": 2,
     "metadata": {},
     "output_type": "execute_result"
    }
   ],
   "source": [
    "q_nominal = Quaternion(axis=[1, 0, 0], angle=np.pi)\n",
    "# a.transformation_matrix\n",
    "tf_nominal = np.array([[1, 0, 0, 0],\n",
    "                       [0, -1, 0, 0],\n",
    "                       [0, 0, -1, 0],\n",
    "                       [0, 0, 0, 1.0]])\n",
    "tf_nominal"
   ]
  },
  {
   "cell_type": "code",
   "execution_count": 3,
   "metadata": {},
   "outputs": [],
   "source": [
    "robot = Kuka()\n",
    "\n",
    "path = []\n",
    "for s in np.linspace(0, 1, 8):\n",
    "    xi = 0.8\n",
    "    yi = s * 0.2 + (1-s) * (-0.2)\n",
    "    zi = 0.2\n",
    "    #path.append(FreeOrientationPt([xi, yi, zi]))\n",
    "    path.append(TolOrientationPt([xi, yi, zi], q_nominal))\n",
    "\n",
    "floor_plane = Shape(0.5, 0.5, 0.1)\n",
    "floor_plane_tf = np.array([[1, 0, 0, 0.80],\n",
    "                            [0, 1, 0, 0.00],\n",
    "                            [0, 0, 1, 0.12],\n",
    "                            [0, 0, 0, 1]])\n",
    "\n",
    "# scene = Collection([floor_plane], [floor_plane_tf])\n",
    "scene = Collection([], [])"
   ]
  },
  {
   "cell_type": "code",
   "execution_count": 4,
   "metadata": {},
   "outputs": [
    {
     "name": "stdout",
     "output_type": "stream",
     "text": [
      "Processing point 0/8\n",
      "sampling near with distance 0.1\n",
      "Processing point 1/8\n",
      "sampling near with distance 0.1\n",
      "Processing point 2/8\n",
      "sampling near with distance 0.1\n",
      "Processing point 3/8\n",
      "sampling near with distance 0.1\n",
      "Processing point 4/8\n",
      "sampling near with distance 0.1\n",
      "Processing point 5/8\n",
      "sampling near with distance 0.1\n",
      "Processing point 6/8\n",
      "sampling near with distance 0.1\n",
      "Processing point 7/8\n",
      "sampling near with distance 0.1\n",
      "[1600, 1600, 1600, 1600, 1600, 1600, 1600, 1600]\n",
      "{'success': True, 'path': [array([-0.24427849,  1.42337239, -0.31847784, -0.00568493, -1.08256698,\n",
      "       -0.0765051 ]), array([-0.17458117,  1.43629885, -0.33335242, -0.01676018, -1.11323833,\n",
      "       -0.08447085]), array([-0.10694712,  1.44994056, -0.34884718,  0.00165453, -1.10643363,\n",
      "       -0.05510662]), array([-0.03663515,  1.45587325, -0.35554531,  0.00728013, -1.10845399,\n",
      "       -0.05422201]), array([ 0.03466369,  1.456128  , -0.35583058,  0.00805881, -1.10703146,\n",
      "        0.03357147]), array([ 0.10572308,  1.4496938 , -0.34857476,  0.0079181 , -1.10781562,\n",
      "        0.11580516]), array([ 0.17546229,  1.43814385, -0.33543748,  0.00987028, -1.10282636,\n",
      "        0.12422827]), array([ 0.24314341,  1.4198308 , -0.31433043,  0.01474469, -1.10296118,\n",
      "        0.11906581])], 'length': 0.9468436241149902}\n"
     ]
    }
   ],
   "source": [
    "from acrobotics.planning import cart_to_joint_no_redundancy\n",
    "from acrobotics.planning import get_shortest_path\n",
    "\n",
    "Q = cart_to_joint_no_redundancy(robot, path, scene, num_samples=200)\n",
    "\n",
    "print([len(qi) for qi in Q])\n",
    "qp = [qi[0] for qi in Q]\n",
    "\n",
    "res = get_shortest_path(Q, method='dijkstra')\n",
    "print(res)\n",
    "qp_sol = res['path']"
   ]
  },
  {
   "cell_type": "code",
   "execution_count": 5,
   "metadata": {},
   "outputs": [],
   "source": [
    "%matplotlib qt\n",
    "\n",
    "#%% ANIMATE\n",
    "fig2, ax2 = get_default_axes3d([-1, 1], [-1, 1], [-1, 1])\n",
    "for pi in path: pi.plot(ax2)\n",
    "scene.plot(ax2, c='g')\n",
    "robot.animate_path(fig2, ax2, qp_sol)\n",
    "plt.show(block=True)"
   ]
  },
  {
   "cell_type": "code",
   "execution_count": null,
   "metadata": {},
   "outputs": [],
   "source": []
  }
 ],
 "metadata": {
  "kernelspec": {
   "display_name": "Python 3",
   "language": "python",
   "name": "python3"
  },
  "language_info": {
   "codemirror_mode": {
    "name": "ipython",
    "version": 3
   },
   "file_extension": ".py",
   "mimetype": "text/x-python",
   "name": "python",
   "nbconvert_exporter": "python",
   "pygments_lexer": "ipython3",
   "version": "3.7.3"
  }
 },
 "nbformat": 4,
 "nbformat_minor": 2
}
