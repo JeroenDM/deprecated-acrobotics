{
 "cells": [
  {
   "cell_type": "markdown",
   "metadata": {},
   "source": [
    "# Grid search as initial guess for optimisation"
   ]
  },
  {
   "cell_type": "code",
   "execution_count": 1,
   "metadata": {},
   "outputs": [],
   "source": [
    "import time\n",
    "import numpy as np\n",
    "import matplotlib.pyplot as plt"
   ]
  },
  {
   "cell_type": "code",
   "execution_count": 2,
   "metadata": {},
   "outputs": [],
   "source": [
    "from acrobotics.planning import cart_to_joint_no_redundancy\n",
    "from acrobotics.planning import get_shortest_path\n",
    "from acrobotics.util import get_default_axes3d\n",
    "from acrobotics.recources.robots import Kuka\n",
    "from acrobotics.recources.path_on_table import path_ori_free, scene1, scene2, path_ori_free\n",
    "\n",
    "robot = Kuka()\n",
    "scene = scene2\n",
    "ns = 200 # number of samples for every path point"
   ]
  },
  {
   "cell_type": "markdown",
   "metadata": {},
   "source": [
    "## Calculate intial solution using grid search"
   ]
  },
  {
   "cell_type": "code",
   "execution_count": 3,
   "metadata": {},
   "outputs": [
    {
     "name": "stdout",
     "output_type": "stream",
     "text": [
      "Processing point 1/15\n",
      "Processing point 2/15\n",
      "Processing point 3/15\n",
      "Processing point 4/15\n",
      "Processing point 5/15\n",
      "Processing point 6/15\n",
      "Processing point 7/15\n",
      "Processing point 8/15\n",
      "Processing point 9/15\n",
      "Processing point 10/15\n",
      "Processing point 11/15\n",
      "Processing point 12/15\n",
      "Processing point 13/15\n",
      "Processing point 14/15\n",
      "Processing point 15/15\n",
      "[742, 348, 116, 36, 58, 86, 222, 400, 404, 380, 148, 64, 36, 16, 16]\n"
     ]
    }
   ],
   "source": [
    "time_before = time.time()\n",
    "\n",
    "Q = cart_to_joint_no_redundancy(robot, path_ori_free, scene, num_samples=ns)\n",
    "print([len(qi) for qi in Q])\n",
    "res = get_shortest_path(Q, method='dijkstra')\n",
    "\n",
    "run_time_grid = time.time() - time_before"
   ]
  },
  {
   "cell_type": "code",
   "execution_count": 4,
   "metadata": {},
   "outputs": [],
   "source": [
    "qp_init = np.array(res['path'])"
   ]
  },
  {
   "cell_type": "markdown",
   "metadata": {},
   "source": [
    "Show the setup. The magic command `%matplotlib qt` makes that the plot is created in a separate (Qt) window."
   ]
  },
  {
   "cell_type": "code",
   "execution_count": 5,
   "metadata": {},
   "outputs": [],
   "source": [
    "# %matplotlib qt\n",
    "# fig2, ax2 = get_default_axes3d([-1, 1], [-1, 1], [-1, 1])\n",
    "# for pi in path_ori_free: pi.plot(ax2)\n",
    "# scene.plot(ax2, c='g')\n",
    "# robot.animate_path(fig2, ax2, qp_init)\n",
    "# plt.show(block=True)"
   ]
  },
  {
   "cell_type": "markdown",
   "metadata": {},
   "source": [
    "## Formulate the optimisation problem\n",
    "\n",
    "First let's define some constants based on the robot and scene we want to plan for:\n",
    "\n",
    "- **N**: Path descritization, number of path points.\n",
    "- **S**: Number of planes used to describe the collision shapes, in this case only boxes.\n",
    "- **ndof**: Degrees of freedom of the robot. We assume the robot has only one collision shape for each link.\n",
    "- **nobs**: The number of obstacles in the scene.\n",
    "- **eps**: Minimum distance to consider two obstacles not in collision."
   ]
  },
  {
   "cell_type": "code",
   "execution_count": 6,
   "metadata": {},
   "outputs": [],
   "source": [
    "N, S, ndof, nobs, eps = len(path_ori_free), 6, robot.ndof, len(scene.shapes), 1e-6"
   ]
  },
  {
   "cell_type": "markdown",
   "metadata": {},
   "source": [
    "Fromulate the same task as explicit numpy arrays for the desired end-effector positions along the path:"
   ]
  },
  {
   "cell_type": "code",
   "execution_count": 7,
   "metadata": {},
   "outputs": [],
   "source": [
    "xp = np.ones(N) * 0.8\n",
    "yp = np.linspace(-0.2, 0.2, N)\n",
    "zp = np.ones(N) * 0.2"
   ]
  },
  {
   "cell_type": "markdown",
   "metadata": {},
   "source": [
    "Calculate the matrix $\\mathbf{A}$ and vector $\\mathbf{b}$ representing the polyhedron for every collision shape in the problem."
   ]
  },
  {
   "cell_type": "code",
   "execution_count": 8,
   "metadata": {},
   "outputs": [],
   "source": [
    "pol_mat_a_robot = []\n",
    "pol_mat_b_robot = []\n",
    "\n",
    "# assume all links have only one shape\n",
    "# expressed in the local link frame\n",
    "for link in robot.links:\n",
    "    s = link.geometry.shapes[0]\n",
    "    Ai, bi = s.get_polyhedron(np.eye(4))\n",
    "    pol_mat_a_robot.append(Ai)\n",
    "    pol_mat_b_robot.append(bi)\n",
    "\n",
    "pol_mat_a_scene , pol_mat_b_scene = scene.get_polyhedron()"
   ]
  },
  {
   "cell_type": "markdown",
   "metadata": {},
   "source": [
    "Optimisation variables:\n",
    "\n",
    "- **q**: (N, ndof) matrix representing the descritized robot path.\n",
    "- **$\\lambda$ and $\\mu$**: dual variables for the collision constraints. These are a 3D list of vectors of dimension (S, 1). Every combination of robot shape and obstacle shape has such a vector, for every point along the path where the collision constraints are enforced."
   ]
  },
  {
   "cell_type": "code",
   "execution_count": 9,
   "metadata": {},
   "outputs": [],
   "source": [
    "import casadi as ca\n",
    "\n",
    "opti = ca.Opti()\n",
    "\n",
    "q = opti.variable(N, 6)  #  joint variables along path\n",
    "\n",
    "# dual variables arranged in convenient lists to acces with indices\n",
    "lam = [[[opti.variable(S) for j in range(nobs)] for i in range(ndof)] for k in range(N)]\n",
    "mu =  [[[opti.variable(S) for j in range(nobs)] for i in range(ndof)] for k in range(N)]"
   ]
  },
  {
   "cell_type": "markdown",
   "metadata": {},
   "source": [
    "Now probably the most complicated part, formulate the collision constrainst for every combination of robot and scene shape, for every point along the path."
   ]
  },
  {
   "cell_type": "code",
   "execution_count": 10,
   "metadata": {},
   "outputs": [],
   "source": [
    "from casadi import dot\n",
    "from acrobotics.optimization import fk_all_links\n",
    "\n",
    "def col_con(lam, mu, Ar, Ao, br, bo):\n",
    "    opti.subject_to( -dot(br, lam) - dot(bo, mu) >= eps)\n",
    "    opti.subject_to(        Ar.T @ lam + Ao.T @ mu == 0.0)\n",
    "    opti.subject_to( dot(Ar.T @ lam, Ar.T @ lam) <= 1.0)\n",
    "    opti.subject_to(                         lam >= 0.0)\n",
    "    opti.subject_to(                          mu >= 0.0)\n",
    "\n",
    "\n",
    "for k in range(N):\n",
    "    fk = fk_all_links(robot.links, q[k, :])\n",
    "    for i in range(ndof):\n",
    "        Ri = fk[i][:3, :3]\n",
    "        pi = fk[i][:3, 3]\n",
    "        for j in range(nobs):\n",
    "            Ar = pol_mat_a_robot[i] @ Ri.T\n",
    "            br = pol_mat_b_robot[i] + Ar @ pi\n",
    "            col_con(lam[k][i][j], mu[k][i][j],\n",
    "                    Ar,\n",
    "                    pol_mat_a_scene[j],\n",
    "                    br,\n",
    "                    pol_mat_b_scene[j])"
   ]
  },
  {
   "cell_type": "markdown",
   "metadata": {},
   "source": [
    "Finally the objective and path constraints."
   ]
  },
  {
   "cell_type": "code",
   "execution_count": 11,
   "metadata": {},
   "outputs": [],
   "source": [
    "from acrobotics.optimization import fk_kuka2\n",
    "\n",
    "V = ca.sum1( ca.sum2(  (q[:-1, :] - q[1:, :])**2  ) )# + 0.05* ca.sumsqr(q) #+ 1 / ca.sum1(q[:, 4]**2)\n",
    "opti.minimize(V)\n",
    "\n",
    "for i in range(N):\n",
    "    Ti = fk_kuka2(q[i, :])\n",
    "    opti.subject_to(xp[i] == Ti[0, 3])\n",
    "    opti.subject_to(yp[i] == Ti[1, 3])\n",
    "    opti.subject_to(zp[i] == Ti[2, 3])"
   ]
  },
  {
   "cell_type": "markdown",
   "metadata": {},
   "source": [
    "## Solve the optimisation problem\n",
    "\n",
    "I added the magic command `%%capture` to suppress all the solver output."
   ]
  },
  {
   "cell_type": "code",
   "execution_count": 15,
   "metadata": {},
   "outputs": [],
   "source": [
    "%%capture\n",
    "\n",
    "opti.solver('ipopt')\n",
    "# opti.set_initial(q, qp_init)\n",
    "opti.set_initial(q, np.zeros((N, ndof)))\n",
    "\n",
    "time_before = time.time()\n",
    "sol = opti.solve()\n",
    "run_time = time.time() - time_before"
   ]
  },
  {
   "cell_type": "markdown",
   "metadata": {},
   "source": [
    "Get the solution and calculate the cost"
   ]
  },
  {
   "cell_type": "code",
   "execution_count": 16,
   "metadata": {},
   "outputs": [
    {
     "name": "stdout",
     "output_type": "stream",
     "text": [
      "Cost: 1.3280042372667498\n",
      "Runtime: 122.24379014968872\n"
     ]
    }
   ],
   "source": [
    "qp_sol = opti.value(q)\n",
    "cost = np.sum((qp_sol[:-1, :] - qp_sol[1:, :])**2)\n",
    "print(\"Cost: {}\".format(cost))\n",
    "print(\"Runtime: {}\".format(run_time))"
   ]
  },
  {
   "cell_type": "markdown",
   "metadata": {},
   "source": [
    "Animate the solution!"
   ]
  },
  {
   "cell_type": "code",
   "execution_count": 17,
   "metadata": {},
   "outputs": [],
   "source": [
    "%matplotlib qt\n",
    "fig, ax = get_default_axes3d([0, 1], [-0.5, 0.5], [0, 1])\n",
    "ax.scatter(xp, yp, zp)\n",
    "scene.plot(ax, c='g')\n",
    "robot.animate_path(fig, ax, qp_sol)\n",
    "ax.set_axis_off()\n",
    "ax.view_init(24, 50)\n",
    "plt.show()"
   ]
  },
  {
   "cell_type": "markdown",
   "metadata": {},
   "source": [
    "## Save results"
   ]
  },
  {
   "cell_type": "code",
   "execution_count": 15,
   "metadata": {},
   "outputs": [],
   "source": [
    "# data (copy-pasted) from run with 200 samples / path point\n",
    "data = {'grid_sol': res, 'grid_time': run_time_grid,\n",
    "        'opti_time': run_time, 'opti_cost': cost, 'opti_sol': qp_sol}"
   ]
  },
  {
   "cell_type": "code",
   "execution_count": 16,
   "metadata": {},
   "outputs": [],
   "source": [
    "# np.save('case_2_data_100_combined', data)\n",
    "np.save('case_{}_data_{}_combined'.format(2, ns), data)\n",
    "# np.save('case_2_data_500_combined', data)"
   ]
  },
  {
   "cell_type": "code",
   "execution_count": null,
   "metadata": {},
   "outputs": [],
   "source": []
  }
 ],
 "metadata": {
  "kernelspec": {
   "display_name": "Python 3",
   "language": "python",
   "name": "python3"
  },
  "language_info": {
   "codemirror_mode": {
    "name": "ipython",
    "version": 3
   },
   "file_extension": ".py",
   "mimetype": "text/x-python",
   "name": "python",
   "nbconvert_exporter": "python",
   "pygments_lexer": "ipython3",
   "version": "3.7.3"
  }
 },
 "nbformat": 4,
 "nbformat_minor": 2
}
