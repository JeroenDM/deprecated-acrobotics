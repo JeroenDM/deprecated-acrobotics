{
 "cells": [
  {
   "cell_type": "code",
   "execution_count": 1,
   "metadata": {},
   "outputs": [],
   "source": [
    "import numpy as np\n",
    "from acrobotics.util import get_default_axes3d\n",
    "from acrobotics.recources.robots import Kuka\n",
    "from acrobotics.path import FreeOrientationPt\n",
    "from acrobotics.geometry import Shape, Collection"
   ]
  },
  {
   "cell_type": "code",
   "execution_count": 2,
   "metadata": {},
   "outputs": [],
   "source": [
    "robot = Kuka()\n",
    "\n",
    "path = []\n",
    "for s in np.linspace(0, 1, 8):\n",
    "    xi = 0.8\n",
    "    yi = s * 0.2 + (1-s) * (-0.2)\n",
    "    zi = 0.2\n",
    "    path.append(FreeOrientationPt([xi, yi, zi]))\n",
    "\n",
    "floor_plane = Shape(0.5, 0.5, 0.1)\n",
    "floor_plane_tf = np.array([[1, 0, 0, 0.80],\n",
    "                            [0, 1, 0, 0.00],\n",
    "                            [0, 0, 1, 0.12],\n",
    "                            [0, 0, 0, 1]])\n",
    "\n",
    "scene = Collection([floor_plane], [floor_plane_tf])"
   ]
  },
  {
   "cell_type": "code",
   "execution_count": 3,
   "metadata": {},
   "outputs": [],
   "source": [
    "from acrobotics.planning import cart_to_joint_no_redundancy\n",
    "from acrobotics.planning import get_shortest_path"
   ]
  },
  {
   "cell_type": "code",
   "execution_count": 7,
   "metadata": {},
   "outputs": [
    {
     "name": "stdout",
     "output_type": "stream",
     "text": [
      "Running planner for ns = 50.\n",
      "Processing point 0/8\n",
      "Processing point 1/8\n",
      "Processing point 2/8\n",
      "Processing point 3/8\n",
      "Processing point 4/8\n",
      "Processing point 5/8\n",
      "Processing point 6/8\n",
      "Processing point 7/8\n",
      "Running planner for ns = 100.\n",
      "Processing point 0/8\n",
      "Processing point 1/8\n",
      "Processing point 2/8\n",
      "Processing point 3/8\n",
      "Processing point 4/8\n",
      "Processing point 5/8\n",
      "Processing point 6/8\n",
      "Processing point 7/8\n",
      "Running planner for ns = 200.\n",
      "Processing point 0/8\n",
      "Processing point 1/8\n",
      "Processing point 2/8\n",
      "Processing point 3/8\n",
      "Processing point 4/8\n",
      "Processing point 5/8\n",
      "Processing point 6/8\n",
      "Processing point 7/8\n",
      "Running planner for ns = 300.\n",
      "Processing point 0/8\n",
      "Processing point 1/8\n",
      "Processing point 2/8\n",
      "Processing point 3/8\n",
      "Processing point 4/8\n",
      "Processing point 5/8\n",
      "Processing point 6/8\n",
      "Processing point 7/8\n",
      "Running planner for ns = 500.\n",
      "Processing point 0/8\n",
      "Processing point 1/8\n",
      "Processing point 2/8\n",
      "Processing point 3/8\n",
      "Processing point 4/8\n",
      "Processing point 5/8\n",
      "Processing point 6/8\n",
      "Processing point 7/8\n",
      "Running planner for ns = 750.\n",
      "Processing point 0/8\n",
      "Processing point 1/8\n",
      "Processing point 2/8\n",
      "Processing point 3/8\n",
      "Processing point 4/8\n",
      "Processing point 5/8\n",
      "Processing point 6/8\n",
      "Processing point 7/8\n",
      "Running planner for ns = 1000.\n",
      "Processing point 0/8\n",
      "Processing point 1/8\n",
      "Processing point 2/8\n",
      "Processing point 3/8\n",
      "Processing point 4/8\n",
      "Processing point 5/8\n",
      "Processing point 6/8\n",
      "Processing point 7/8\n"
     ]
    }
   ],
   "source": [
    "solutions = []\n",
    "run_ns_values = [50, 100, 200, 300, 500, 750, 1000]\n",
    "for ns in run_ns_values:\n",
    "    print('Running planner for ns = {}.'.format(ns))\n",
    "    Q = cart_to_joint_no_redundancy(robot, path, scene, num_samples=ns)\n",
    "    res = get_shortest_path(Q, method='dijkstra')\n",
    "    solutions.append(res)"
   ]
  },
  {
   "cell_type": "code",
   "execution_count": 8,
   "metadata": {
    "scrolled": true
   },
   "outputs": [
    {
     "data": {
      "text/plain": [
       "[9.257730484008789,\n",
       " 6.7656402587890625,\n",
       " 4.717208385467529,\n",
       " 4.500772953033447,\n",
       " 3.245941400527954,\n",
       " 2.6150014400482178,\n",
       " 2.4850456714630127]"
      ]
     },
     "execution_count": 8,
     "metadata": {},
     "output_type": "execute_result"
    }
   ],
   "source": [
    "pl = [s['length'] for s in solutions]\n",
    "pl"
   ]
  },
  {
   "cell_type": "code",
   "execution_count": 9,
   "metadata": {},
   "outputs": [],
   "source": [
    "import matplotlib.pyplot as plt"
   ]
  },
  {
   "cell_type": "code",
   "execution_count": 10,
   "metadata": {},
   "outputs": [
    {
     "data": {
      "text/plain": [
       "Text(0, 0.5, 'Path length in C-space')"
      ]
     },
     "execution_count": 10,
     "metadata": {},
     "output_type": "execute_result"
    },
    {
     "data": {
      "image/png": "[encoded data removed]",
      "text/plain": [
       "<Figure size 432x288 with 1 Axes>"
      ]
     },
     "metadata": {
      "needs_background": "light"
     },
     "output_type": "display_data"
    }
   ],
   "source": [
    "plt.plot(run_ns_values, pl, 'x-')\n",
    "plt.xlabel(\"Samples per path point\")\n",
    "plt.ylabel(\"Path length in C-space\")"
   ]
  },
  {
   "cell_type": "code",
   "execution_count": null,
   "metadata": {},
   "outputs": [],
   "source": []
  }
 ],
 "metadata": {
  "kernelspec": {
   "display_name": "Python 3",
   "language": "python",
   "name": "python3"
  },
  "language_info": {
   "codemirror_mode": {
    "name": "ipython",
    "version": 3
   },
   "file_extension": ".py",
   "mimetype": "text/x-python",
   "name": "python",
   "nbconvert_exporter": "python",
   "pygments_lexer": "ipython3",
   "version": "3.7.3"
  }
 },
 "nbformat": 4,
 "nbformat_minor": 2
}
