{
 "cells": [
  {
   "cell_type": "code",
   "execution_count": 1,
   "metadata": {},
   "outputs": [],
   "source": [
    "import casadi as ca\n",
    "import numpy as np\n",
    "import matplotlib.pyplot as plt"
   ]
  },
  {
   "cell_type": "markdown",
   "metadata": {},
   "source": [
    "## Hanging chain problem"
   ]
  },
  {
   "cell_type": "code",
   "execution_count": 2,
   "metadata": {},
   "outputs": [],
   "source": [
    "opti = ca.Opti()\n",
    "N = 20\n",
    "D = 70.0 * N  # spring constant [N / m]\n",
    "m = 40.0 / N  # mass per length [kg / m]\n",
    "L = 1.0 # spring rest length * N\n",
    "g = 9.81"
   ]
  },
  {
   "cell_type": "code",
   "execution_count": 3,
   "metadata": {},
   "outputs": [],
   "source": [
    "p = opti.variable(2, N)\n",
    "x = p[0, :]\n",
    "y = p[1, :]\n",
    "\n",
    "V = 0.5*ca.sum2( D * (ca.sqrt((x[:-1] - x[1:])**2 + (y[:-1]-y[1:])**2) - L/N)**2)  # spring energy\n",
    "V = V + g*ca.sum2(m*y)  #  gravity energy"
   ]
  },
  {
   "cell_type": "code",
   "execution_count": 4,
   "metadata": {},
   "outputs": [],
   "source": [
    "opti.minimize(V)\n",
    "\n",
    "opti.subject_to(p[:,0] == [-2, 1])\n",
    "opti.subject_to(p[:,-1] == [2, 1])\n",
    "opti.subject_to(y >= ca.cos(0.1 * x) - 0.5);\n",
    "\n",
    "opti.solver('ipopt');\n",
    "\n",
    "opti.set_initial(x, np.linspace(-2,2,N));\n",
    "opti.set_initial(y,1);"
   ]
  },
  {
   "cell_type": "code",
   "execution_count": 5,
   "metadata": {},
   "outputs": [],
   "source": [
    "%%capture\n",
    "sol = opti.solve()"
   ]
  },
  {
   "cell_type": "code",
   "execution_count": 6,
   "metadata": {},
   "outputs": [
    {
     "data": {
      "text/plain": [
       "[<matplotlib.lines.Line2D at 0x7f1726e96208>]"
      ]
     },
     "execution_count": 6,
     "metadata": {},
     "output_type": "execute_result"
    },
    {
     "data": {
      "image/png": "[encoded data removed]",
      "text/plain": [
       "<Figure size 432x288 with 1 Axes>"
      ]
     },
     "metadata": {
      "needs_background": "light"
     },
     "output_type": "display_data"
    }
   ],
   "source": [
    "plt.plot(sol.value(x),sol.value(y),'-o')\n",
    "xs = np.linspace(-2,2,1000);\n",
    "plt.plot(xs, np.cos(0.1*xs)-0.5,'--r')"
   ]
  },
  {
   "cell_type": "code",
   "execution_count": null,
   "metadata": {},
   "outputs": [],
   "source": []
  }
 ],
 "metadata": {
  "kernelspec": {
   "display_name": "Python 3",
   "language": "python",
   "name": "python3"
  },
  "language_info": {
   "codemirror_mode": {
    "name": "ipython",
    "version": 3
   },
   "file_extension": ".py",
   "mimetype": "text/x-python",
   "name": "python",
   "nbconvert_exporter": "python",
   "pygments_lexer": "ipython3",
   "version": "3.7.3"
  }
 },
 "nbformat": 4,
 "nbformat_minor": 2
}
