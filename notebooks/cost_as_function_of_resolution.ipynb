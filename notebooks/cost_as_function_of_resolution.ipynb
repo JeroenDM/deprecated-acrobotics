{
 "cells": [
  {
   "cell_type": "code",
   "execution_count": 1,
   "metadata": {},
   "outputs": [],
   "source": [
    "import numpy as np\n",
    "from acrobotics.util import get_default_axes3d\n",
    "from acrobotics.recources.robots import Kuka\n",
    "from acrobotics.path import FreeOrientationPt\n",
    "from acrobotics.geometry import Shape, Collection"
   ]
  },
  {
   "cell_type": "code",
   "execution_count": 2,
   "metadata": {},
   "outputs": [],
   "source": [
    "robot = Kuka()\n",
    "\n",
    "path = []\n",
    "for s in np.linspace(0, 1, 15):\n",
    "    xi = 0.8\n",
    "    yi = s * 0.2 + (1-s) * (-0.2)\n",
    "    zi = 0.2\n",
    "    path.append(FreeOrientationPt([xi, yi, zi]))\n",
    "\n",
    "floor_plane = Shape(0.5, 0.5, 0.1)\n",
    "floor_plane_tf = np.array([[1, 0, 0, 0.80],\n",
    "                            [0, 1, 0, 0.00],\n",
    "                            [0, 0, 1, 0.12],\n",
    "                            [0, 0, 0, 1]])\n",
    "\n",
    "scene = Collection([floor_plane], [floor_plane_tf])"
   ]
  },
  {
   "cell_type": "code",
   "execution_count": 3,
   "metadata": {},
   "outputs": [],
   "source": [
    "from acrobotics.planning import cart_to_joint_no_redundancy\n",
    "from acrobotics.planning import get_shortest_path"
   ]
  },
  {
   "cell_type": "code",
   "execution_count": 9,
   "metadata": {},
   "outputs": [
    {
     "name": "stdout",
     "output_type": "stream",
     "text": [
      "Running planner for ns = 100.\n",
      "Processing point 0/15\n",
      "Processing point 1/15\n",
      "Processing point 2/15\n",
      "Processing point 3/15\n",
      "Processing point 4/15\n",
      "Processing point 5/15\n",
      "Processing point 6/15\n",
      "Processing point 7/15\n",
      "Processing point 8/15\n",
      "Processing point 9/15\n",
      "Processing point 10/15\n",
      "Processing point 11/15\n",
      "Processing point 12/15\n",
      "Processing point 13/15\n",
      "Processing point 14/15\n",
      "Running planner for ns = 1000.\n",
      "Processing point 0/15\n",
      "Processing point 1/15\n",
      "Processing point 2/15\n",
      "Processing point 3/15\n",
      "Processing point 4/15\n",
      "Processing point 5/15\n",
      "Processing point 6/15\n",
      "Processing point 7/15\n",
      "Processing point 8/15\n",
      "Processing point 9/15\n",
      "Processing point 10/15\n",
      "Processing point 11/15\n",
      "Processing point 12/15\n",
      "Processing point 13/15\n",
      "Processing point 14/15\n",
      "Running planner for ns = 2000.\n",
      "Processing point 0/15\n",
      "Processing point 1/15\n",
      "Processing point 2/15\n",
      "Processing point 3/15\n",
      "Processing point 4/15\n",
      "Processing point 5/15\n",
      "Processing point 6/15\n",
      "Processing point 7/15\n",
      "Processing point 8/15\n",
      "Processing point 9/15\n",
      "Processing point 10/15\n",
      "Processing point 11/15\n",
      "Processing point 12/15\n",
      "Processing point 13/15\n",
      "Processing point 14/15\n",
      "Running planner for ns = 5000.\n",
      "Processing point 0/15\n",
      "Processing point 1/15\n",
      "Processing point 2/15\n",
      "Processing point 3/15\n",
      "Processing point 4/15\n",
      "Processing point 5/15\n",
      "Processing point 6/15\n",
      "Processing point 7/15\n",
      "Processing point 8/15\n",
      "Processing point 9/15\n",
      "Processing point 10/15\n",
      "Processing point 11/15\n",
      "Processing point 12/15\n",
      "Processing point 13/15\n",
      "Processing point 14/15\n",
      "Running planner for ns = 7000.\n",
      "Processing point 0/15\n",
      "Processing point 1/15\n",
      "Processing point 2/15\n",
      "Processing point 3/15\n",
      "Processing point 4/15\n",
      "Processing point 5/15\n",
      "Processing point 6/15\n",
      "Processing point 7/15\n",
      "Processing point 8/15\n",
      "Processing point 9/15\n",
      "Processing point 10/15\n",
      "Processing point 11/15\n",
      "Processing point 12/15\n",
      "Processing point 13/15\n",
      "Processing point 14/15\n"
     ]
    }
   ],
   "source": [
    "solutions = []\n",
    "# run_ns_values = [50, 100, 200, 300, 500, 750, 1000]\n",
    "run_ns_values = [100, 1000, 2000, 5000, 7000]\n",
    "for ns in run_ns_values:\n",
    "    print('Running planner for ns = {}.'.format(ns))\n",
    "    Q = cart_to_joint_no_redundancy(robot, path, scene, num_samples=ns)\n",
    "    res = get_shortest_path(Q, method='dijkstra')\n",
    "    solutions.append(res)"
   ]
  },
  {
   "cell_type": "code",
   "execution_count": 13,
   "metadata": {
    "scrolled": true
   },
   "outputs": [
    {
     "data": {
      "text/plain": [
       "[5.107024669647217, 3.710268974304199, 2.8270692825317383, 2.6454219818115234]"
      ]
     },
     "execution_count": 13,
     "metadata": {},
     "output_type": "execute_result"
    }
   ],
   "source": [
    "pl = [s['length'] for s in solutions[1:]]\n",
    "pl"
   ]
  },
  {
   "cell_type": "code",
   "execution_count": 12,
   "metadata": {},
   "outputs": [
    {
     "data": {
      "text/plain": [
       "[{'success': False},\n",
       " {'success': True,\n",
       "  'path': [array([-0.21131438,  1.38907814, -0.28667527, -0.25551593, -1.26935339,\n",
       "          -0.72280204]),\n",
       "   array([-0.17974417,  1.45057273, -0.35662347, -0.27229333, -0.97760522,\n",
       "          -0.72776312]),\n",
       "   array([-0.12525998,  1.46312523, -0.38130003, -0.46317941, -0.94991016,\n",
       "          -0.63812554]),\n",
       "   array([-0.11400404,  1.45095193, -0.35418367, -0.22553173, -1.06831956,\n",
       "          -0.53780884]),\n",
       "   array([-0.09281805,  1.45363033, -0.35402742, -0.11031437, -1.08530283,\n",
       "          -0.4332816 ]),\n",
       "   array([-0.05289744,  1.4526031 , -0.35358363, -0.14362232, -1.11296654,\n",
       "          -0.54214811]),\n",
       "   array([ 0.0034354 ,  1.46381342, -0.37258819, -0.31729022, -1.0611496 ,\n",
       "          -0.17638798]),\n",
       "   array([ 0.03825275,  1.45866346, -0.36621103, -0.30394375, -1.09498417,\n",
       "           0.10658967]),\n",
       "   array([ 0.07197049,  1.44220197, -0.34733516, -0.27639005, -1.18113136,\n",
       "           0.15925582]),\n",
       "   array([ 0.10412584,  1.43772745, -0.34121796, -0.2487742 , -1.19288373,\n",
       "           0.23322096]),\n",
       "   array([ 0.13103423,  1.44608903, -0.34755629, -0.18934976, -1.12696373,\n",
       "           0.57106513]),\n",
       "   array([ 0.16674645,  1.42805982, -0.32785219, -0.18877965, -1.19554937,\n",
       "           0.48721313]),\n",
       "   array([ 0.20315452,  1.40102506, -0.29978234, -0.19509105, -1.30129111,\n",
       "           0.42969108]),\n",
       "   array([ 0.20969476,  1.42422485, -0.31950891,  0.01098257, -1.13375854,\n",
       "           0.38597876]),\n",
       "   array([ 0.25213066,  1.39153981, -0.28358352, -0.05392108, -1.25824666,\n",
       "           0.43231422])],\n",
       "  'length': 5.107024669647217},\n",
       " {'success': True,\n",
       "  'path': [array([-0.31179029,  1.42721164, -0.34942797,  0.5837692 , -1.05228055,\n",
       "          -0.32395524]),\n",
       "   array([-0.24920295,  1.43108594, -0.33518159,  0.31028244, -1.09249508,\n",
       "          -0.32131791]),\n",
       "   array([-0.22710843,  1.43713772, -0.34798265,  0.40997761, -1.10430944,\n",
       "          -0.31808907]),\n",
       "   array([-0.19099779,  1.44575632, -0.35697871,  0.39838985, -1.09530032,\n",
       "          -0.26056397]),\n",
       "   array([-0.14668182,  1.46371961, -0.37346375,  0.33308226, -1.0246892 ,\n",
       "          -0.31067729]),\n",
       "   array([-0.12625417,  1.45958412, -0.37598705,  0.45202306, -1.06937981,\n",
       "          -0.21773408]),\n",
       "   array([-0.09229762,  1.46640241, -0.38498887,  0.47308648, -1.04359698,\n",
       "          -0.28103423]),\n",
       "   array([-0.07465507,  1.43847466, -0.36653042,  0.59078091, -1.19852889,\n",
       "          -0.27364004]),\n",
       "   array([-0.03946444,  1.44075239, -0.369452  ,  0.60024977, -1.18212152,\n",
       "          -0.2066112 ]),\n",
       "   array([-0.01173393,  1.4334271 , -0.36896029,  0.66759944, -1.20655382,\n",
       "          -0.38778302]),\n",
       "   array([ 0.03757538,  1.40977859, -0.33213609,  0.52374262, -1.31210411,\n",
       "          -0.42138174]),\n",
       "   array([ 0.0816394 ,  1.42326343, -0.33872247,  0.46816608, -1.21624196,\n",
       "          -0.4676533 ]),\n",
       "   array([ 0.14173272,  1.43083537, -0.33358663,  0.27520558, -1.14171612,\n",
       "          -0.55201626]),\n",
       "   array([ 0.19376799,  1.41933525, -0.31561148,  0.13482365, -1.16039789,\n",
       "          -0.43284565]),\n",
       "   array([ 0.22718996,  1.41068459, -0.30553693,  0.13994676, -1.15401018,\n",
       "          -0.46162266])],\n",
       "  'length': 3.710268974304199},\n",
       " {'success': True,\n",
       "  'path': [array([-0.26248461,  1.37843347, -0.27175355,  0.12973516, -1.32623982,\n",
       "           0.97475553]),\n",
       "   array([-0.22141777,  1.3738116 , -0.26908118,  0.07462154, -1.39872801,\n",
       "           0.98060691]),\n",
       "   array([-0.18652317,  1.37222445, -0.27044305,  0.06994389, -1.4470402 ,\n",
       "           1.02345383]),\n",
       "   array([-0.15617983,  1.38574827, -0.28506646,  0.10179804, -1.41325271,\n",
       "           1.02202117]),\n",
       "   array([-0.12023994,  1.39510489, -0.29492038,  0.09613702, -1.393098  ,\n",
       "           0.95937145]),\n",
       "   array([-0.08795944,  1.38450325, -0.2876344 ,  0.11706831, -1.46351433,\n",
       "           0.87824893]),\n",
       "   array([-0.04064287,  1.39042258, -0.29221436,  0.03468904, -1.44617128,\n",
       "           0.85519451]),\n",
       "   array([ 0.00551596,  1.39385974, -0.29541448, -0.03874806, -1.43309689,\n",
       "           1.0231303 ]),\n",
       "   array([ 0.04287891,  1.40629041, -0.30611169, -0.05104536, -1.36802101,\n",
       "           1.02668166]),\n",
       "   array([ 0.07577047,  1.38946295, -0.2905471 , -0.03140027, -1.43976808,\n",
       "           1.06303847]),\n",
       "   array([ 0.11911395,  1.36774778, -0.27198294, -0.08679398, -1.52659559,\n",
       "           0.98904288]),\n",
       "   array([ 0.16299796,  1.36139226, -0.26604623, -0.14893168, -1.53166878,\n",
       "           0.96167427]),\n",
       "   array([ 0.2044497 ,  1.35047841, -0.2560403 , -0.19732076, -1.55178559,\n",
       "           0.95028174]),\n",
       "   array([ 0.25687605,  1.38042879, -0.28533009, -0.33930808, -1.36198628,\n",
       "           0.94923031]),\n",
       "   array([ 0.29937032,  1.37713683, -0.2845265 , -0.41324577, -1.32825184,\n",
       "           0.95507038])],\n",
       "  'length': 2.8270692825317383},\n",
       " {'success': True,\n",
       "  'path': [array([-0.28415337,  1.39051414, -0.290281  ,  0.2993139 , -1.26108122,\n",
       "           1.96821547]),\n",
       "   array([-0.24397409,  1.39864373, -0.29778525,  0.24739118, -1.27007568,\n",
       "           1.97462165]),\n",
       "   array([-0.20976833,  1.40227377, -0.30299363,  0.24525428, -1.29420233,\n",
       "           1.97750747]),\n",
       "   array([-0.17235512,  1.38073087, -0.28426814,  0.21765094, -1.43677747,\n",
       "           2.11287785]),\n",
       "   array([-0.14652771,  1.40146911, -0.30752751,  0.28867146, -1.3591224 ,\n",
       "           2.08456969]),\n",
       "   array([-0.11876804,  1.41244626, -0.32201514,  0.34838447, -1.32210588,\n",
       "           2.07897949]),\n",
       "   array([-0.07664204,  1.41351855, -0.32063982,  0.29782355, -1.32926214,\n",
       "           2.18073559]),\n",
       "   array([-0.0491921 ,  1.41270494, -0.32380301,  0.35940188, -1.33604848,\n",
       "           2.15326476]),\n",
       "   array([-0.01858475,  1.40265191, -0.31716782,  0.39472613, -1.38144481,\n",
       "           2.22846532]),\n",
       "   array([ 0.02443232,  1.40332127, -0.31332147,  0.34016305, -1.36793303,\n",
       "           2.22957039]),\n",
       "   array([ 0.06193548,  1.39570916, -0.30446053,  0.32435027, -1.38712287,\n",
       "           2.43810558]),\n",
       "   array([ 0.09734128,  1.39536071, -0.30255204,  0.32563981, -1.36244714,\n",
       "           2.48681259]),\n",
       "   array([ 0.1289743 ,  1.39584577, -0.30287245,  0.35503629, -1.32517827,\n",
       "           2.39668941]),\n",
       "   array([ 0.16474843,  1.38004231, -0.28524068,  0.3435016 , -1.36385119,\n",
       "           2.30126882]),\n",
       "   array([ 0.20242696,  1.39067137, -0.29192296,  0.32615489, -1.25976908,\n",
       "           2.29383636])],\n",
       "  'length': 2.6454219818115234}]"
      ]
     },
     "execution_count": 12,
     "metadata": {},
     "output_type": "execute_result"
    }
   ],
   "source": [
    "solutions"
   ]
  },
  {
   "cell_type": "code",
   "execution_count": 7,
   "metadata": {},
   "outputs": [],
   "source": [
    "import matplotlib.pyplot as plt"
   ]
  },
  {
   "cell_type": "code",
   "execution_count": 8,
   "metadata": {},
   "outputs": [
    {
     "data": {
      "text/plain": [
       "Text(0, 0.5, 'Path length in C-space')"
      ]
     },
     "execution_count": 8,
     "metadata": {},
     "output_type": "execute_result"
    },
    {
     "data": {
      "image/png": "[encoded data removed]",
      "text/plain": [
       "<Figure size 432x288 with 1 Axes>"
      ]
     },
     "metadata": {
      "needs_background": "light"
     },
     "output_type": "display_data"
    }
   ],
   "source": [
    "plt.plot(run_ns_values, pl, 'x-')\n",
    "plt.xlabel(\"Samples per path point\")\n",
    "plt.ylabel(\"Path length in C-space\")"
   ]
  },
  {
   "cell_type": "code",
   "execution_count": null,
   "metadata": {},
   "outputs": [],
   "source": []
  }
 ],
 "metadata": {
  "kernelspec": {
   "display_name": "Python 3",
   "language": "python",
   "name": "python3"
  },
  "language_info": {
   "codemirror_mode": {
    "name": "ipython",
    "version": 3
   },
   "file_extension": ".py",
   "mimetype": "text/x-python",
   "name": "python",
   "nbconvert_exporter": "python",
   "pygments_lexer": "ipython3",
   "version": "3.7.3"
  }
 },
 "nbformat": 4,
 "nbformat_minor": 2
}
